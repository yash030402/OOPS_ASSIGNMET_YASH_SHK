{
  "nbformat": 4,
  "nbformat_minor": 0,
  "metadata": {
    "colab": {
      "provenance": []
    },
    "kernelspec": {
      "name": "python3",
      "display_name": "Python 3"
    },
    "language_info": {
      "name": "python"
    }
  },
  "cells": [
    {
      "cell_type": "markdown",
      "source": [
        "Q1  What are the five key concepts of Object-Oriented Programming (OOP) ?"
      ],
      "metadata": {
        "id": "nPrIYUCyOPeZ"
      }
    },
    {
      "cell_type": "markdown",
      "source": [
        "ANS) The five key concepts of Object-Oriented Programming (OOP) are:\n",
        "\n",
        "\n",
        "1 Class: A class is a blueprint for creating objects. It defines a set of attributes and methods that the created objects will have. For example, a Car class might have attributes like color and model, and methods like drive and brake.\n",
        "\n",
        "2 Object: An object is an instance of a class. It represents a specific entity with defined attributes and behaviors. For example, myCar could be an object of the Car class with specific values for color and model.\n",
        "\n",
        "3 Encapsulation: Encapsulation is the concept of wrapping data and methods that operate on the data within a single unit, typically a class. This helps in hiding the internal state of the object from the outside world and only exposing a controlled interface. For example, you might have private variables in a class that can only be accessed through public methods.\n",
        "\n",
        "4 Inheritance: Inheritance allows a class to inherit attributes and methods from another class. This promotes code reuse and establishes a relationship between the parent (base) class and the child (derived) class. For example, a SportsCar class might inherit from the Car class and add additional features like turboBoost.\n",
        "\n",
        "5 Polymorphism: Polymorphism allows objects to be treated as instances of their parent class rather than their actual class. This can be achieved through method overriding (where a subclass provides a specific implementation of a method that is already defined in its superclass) and method overloading (where multiple methods have the same name but different parameters). For example, a drive method might behave differently for a Car object and a SportsCar object."
      ],
      "metadata": {
        "id": "vMkrrk51OzcP"
      }
    },
    {
      "cell_type": "markdown",
      "source": [
        "Q2 Write a Python class for a `Car` with attributes for `make`, `model`, and `year`. Include a method to display\n",
        "the car's information."
      ],
      "metadata": {
        "id": "9prWuGz0Par7"
      }
    },
    {
      "cell_type": "code",
      "source": [
        "class Car:\n",
        "    def __init__(self, make, model, year):\n",
        "        self.make = make\n",
        "        self.model = model\n",
        "        self.year = year\n",
        "\n",
        "    def display_info(self):\n",
        "        print(f\"Car Information: {self.year} {self.make} {self.model}\")\n",
        "\n",
        "# Example:\n",
        "my_car = Car(\"Toyota\", \"Corolla\", 2020)\n",
        "my_car.display_info()"
      ],
      "metadata": {
        "colab": {
          "base_uri": "https://localhost:8080/"
        },
        "id": "ORNt75FFPcT3",
        "outputId": "f9290f3e-f789-474c-ae7e-1578c01b25d6"
      },
      "execution_count": null,
      "outputs": [
        {
          "output_type": "stream",
          "name": "stdout",
          "text": [
            "Car Information: 2020 Toyota Corolla\n"
          ]
        }
      ]
    },
    {
      "cell_type": "code",
      "source": [
        "my_car = Car(\"MARUTI SUZUKI\", \"ALTO\", 2005)\n",
        "my_car.display_info()"
      ],
      "metadata": {
        "colab": {
          "base_uri": "https://localhost:8080/"
        },
        "id": "xbwno8nvPjOn",
        "outputId": "ecb18191-e10d-45d5-95e1-6b2f4ebdc6c6"
      },
      "execution_count": null,
      "outputs": [
        {
          "output_type": "stream",
          "name": "stdout",
          "text": [
            "Car Information: 2005 MARUTI SUZUKI ALTO\n"
          ]
        }
      ]
    },
    {
      "cell_type": "markdown",
      "source": [
        "Q3  Explain the difference between instance methods and class methods. Provide an example of each.?"
      ],
      "metadata": {
        "id": "xhHC_lYQQCp1"
      }
    },
    {
      "cell_type": "markdown",
      "source": [
        "ANS) Instance Methods\n",
        "\n",
        "Definition: Instance methods are functions defined within a class that operate on instances of the class.\n",
        "\n",
        "Access: They can access and modify the instance’s attributes and other methods using the self parameter.\n",
        "\n",
        "Usage: Instance methods are used when you need to perform operations that pertain to a specific instance of the class."
      ],
      "metadata": {
        "id": "jgHXIHydQOGS"
      }
    },
    {
      "cell_type": "code",
      "source": [
        "#Example:\n",
        "\n",
        "class Car:\n",
        "    def __init__(self, make, model, year):\n",
        "        self.make = make\n",
        "        self.model = model\n",
        "        self.year = year\n",
        "\n",
        "    def display_info(self):\n",
        "        print(f\"Car Information: {self.year} {self.make} {self.model}\")\n",
        "\n",
        "# Creating an instance of Car\n",
        "my_car = Car(\"PORSCHE\", \"SPYDER\", 2013)\n",
        "my_car.display_info()"
      ],
      "metadata": {
        "colab": {
          "base_uri": "https://localhost:8080/"
        },
        "id": "QSeQUQYjQRBC",
        "outputId": "a1720f69-db2d-478b-ddf3-5ad55a64270a"
      },
      "execution_count": null,
      "outputs": [
        {
          "output_type": "stream",
          "name": "stdout",
          "text": [
            "Car Information: 2013 PORSCHE SPYDER\n"
          ]
        }
      ]
    },
    {
      "cell_type": "markdown",
      "source": [
        "Class Methods\n",
        "\n",
        "Definition: Class methods are functions defined within a class that operate on the class itself rather than on instances of the class.\n",
        "\n",
        "Access: They use the cls parameter to access class attributes and methods.\n",
        "\n",
        "Usage: Class methods are used for operations that pertain to the class as a whole, such as factory methods that create instances of the class."
      ],
      "metadata": {
        "id": "eyVgPw9VRBHf"
      }
    },
    {
      "cell_type": "code",
      "source": [
        "#Example:\n",
        "\n",
        "class Car:\n",
        "    num_wheels = 4  # Class attribute\n",
        "\n",
        "    def __init__(self, make, model, year):\n",
        "        self.make = make\n",
        "        self.model = model\n",
        "        self.year = year\n",
        "\n",
        "    @classmethod\n",
        "    def display_num_wheels(cls):\n",
        "        print(f\"All cars have {cls.num_wheels} wheels.\")\n",
        "\n",
        "# Calling the class method\n",
        "Car.display_num_wheels()"
      ],
      "metadata": {
        "colab": {
          "base_uri": "https://localhost:8080/"
        },
        "id": "A-ulFy4ZRDpO",
        "outputId": "802b0173-c8a1-4c67-bc35-640f06a95454"
      },
      "execution_count": null,
      "outputs": [
        {
          "output_type": "stream",
          "name": "stdout",
          "text": [
            "All cars have 4 wheels.\n"
          ]
        }
      ]
    },
    {
      "cell_type": "markdown",
      "source": [
        "In summary:\n",
        "\n",
        "Instance methods operate on individual instances and can access instance-specific data.\n",
        "\n",
        "Class methods operate on the class itself and can access class-specific data."
      ],
      "metadata": {
        "id": "BdjGYAvgRYVd"
      }
    },
    {
      "cell_type": "markdown",
      "source": [
        "Q4 . How does Python implement method overloading? Give an example?"
      ],
      "metadata": {
        "id": "D4qWsEq8Ri2I"
      }
    },
    {
      "cell_type": "markdown",
      "source": [
        "ANS) Python does not support method overloading in the traditional sense, as seen in languages like Java or C++. However, you can achieve similar functionality using default arguments, variable-length arguments.\n",
        "\n",
        "Using Default Arguments\n",
        "You can define a method with default arguments to handle different numbers of parameters.\n",
        "\n",
        "Example:"
      ],
      "metadata": {
        "id": "t79WN6CmSkW6"
      }
    },
    {
      "cell_type": "code",
      "source": [
        "class MathOperations:\n",
        "    def add(self, a, b=0, c=0):\n",
        "        return a + b + c\n",
        "\n",
        "# Example:\n",
        "math_obj = MathOperations()\n",
        "print(math_obj.add(1))\n",
        "print(math_obj.add(1, 2))\n",
        "print(math_obj.add(1, 2, 3))"
      ],
      "metadata": {
        "colab": {
          "base_uri": "https://localhost:8080/"
        },
        "id": "6VxxMBi5SmBT",
        "outputId": "1001b5c5-3f50-429e-faec-d3806c3e4278"
      },
      "execution_count": null,
      "outputs": [
        {
          "output_type": "stream",
          "name": "stdout",
          "text": [
            "1\n",
            "3\n",
            "6\n"
          ]
        }
      ]
    },
    {
      "cell_type": "markdown",
      "source": [
        "In this example, the add method can handle different numbers of arguments by checking which arguments are None and performing the appropriate operation.\n"
      ],
      "metadata": {
        "id": "eQhRHO_MVO2T"
      }
    },
    {
      "cell_type": "code",
      "source": [
        "#Alternatively, you can use the multipledispatch library to achieve method overloading:\n",
        "\n",
        "from multipledispatch import dispatch\n",
        "\n",
        "class Example:\n",
        "    @dispatch(int, int)\n",
        "    def add(self, a, b):\n",
        "        return a + b\n",
        "\n",
        "    @dispatch(int, int, int)\n",
        "    def add(self, a, b, c):\n",
        "        return a + b + c\n",
        "\n",
        "# Create an instance of the class\n",
        "example = Example()\n",
        "\n",
        "# Call the method with different numbers of arguments\n",
        "print(example.add(1, 2))\n",
        "print(example.add(1, 2, 3))"
      ],
      "metadata": {
        "colab": {
          "base_uri": "https://localhost:8080/"
        },
        "id": "XYkgkyJhVQPb",
        "outputId": "1145aedb-07d2-4a47-eefc-0e9752736697"
      },
      "execution_count": 2,
      "outputs": [
        {
          "output_type": "stream",
          "name": "stdout",
          "text": [
            "3\n",
            "6\n"
          ]
        }
      ]
    },
    {
      "cell_type": "markdown",
      "source": [
        "In this case, the multipledispatch library allows you to define multiple versions of the add method with different signatures, and it will automatically dispatch the correct method based on the arguments provided"
      ],
      "metadata": {
        "id": "J-EsDDiuVn6N"
      }
    },
    {
      "cell_type": "markdown",
      "source": [
        "Q5 What are the three types of access modifiers in Python? How are they denoted?"
      ],
      "metadata": {
        "id": "nCt01ZK2VuLX"
      }
    },
    {
      "cell_type": "markdown",
      "source": [
        "ANS ) In Python, there are three types of access modifiers: public, protected, and private. These modifiers control the accessibility of class members (attributes and methods).\n",
        "\n",
        "Public:\n",
        "\n",
        "Notation: No leading underscore.\n",
        "\n",
        "Accessibility: Public members are accessible from anywhere, both inside and outside the class.\n",
        "\n",
        "Example:"
      ],
      "metadata": {
        "id": "ve39GXq4V4qH"
      }
    },
    {
      "cell_type": "code",
      "source": [
        "class YASH:\n",
        "    def __init__(self, name):\n",
        "        self.name = name  # Public attribute\n",
        "\n",
        "    def display(self):\n",
        "        print(self.name)  # Public method\n",
        "\n",
        "obj = YASH(\"LUCKY\")\n",
        "print(obj.name)\n",
        "obj.display()"
      ],
      "metadata": {
        "colab": {
          "base_uri": "https://localhost:8080/"
        },
        "id": "zR0gxwKHWCwJ",
        "outputId": "79ea6a7c-bea0-4c1a-e75e-9965e5d461ec"
      },
      "execution_count": 4,
      "outputs": [
        {
          "output_type": "stream",
          "name": "stdout",
          "text": [
            "LUCKY\n",
            "LUCKY\n"
          ]
        }
      ]
    },
    {
      "cell_type": "markdown",
      "source": [
        "2 Protected:\n",
        "\n",
        "Notation: Single leading underscore (_).\n",
        "\n",
        "Accessibility: Protected members are intended to be accessible within the class and its subclasses.\n",
        "\n",
        "Example:"
      ],
      "metadata": {
        "id": "zzpRVAP_Wfu3"
      }
    },
    {
      "cell_type": "code",
      "source": [
        "class yash:\n",
        "    def __init__(self, name):\n",
        "        self._name = name  # Protected attribute\n",
        "\n",
        "    def _display(self):\n",
        "        print(self._name)  # Protected method\n",
        "\n",
        "class yash3(Example):\n",
        "    def show(self):\n",
        "        print(self._name)  # Accessible in subclass\n",
        "\n",
        "obj = yash3(\"lucky\")\n",
        "obj.show()        # Accessible\n",
        "print(obj._name)  #accessible"
      ],
      "metadata": {
        "colab": {
          "base_uri": "https://localhost:8080/"
        },
        "id": "TDvIegr5Ywdn",
        "outputId": "e0c3ba7b-dbd8-4cf6-d184-d49af488a75b"
      },
      "execution_count": 22,
      "outputs": [
        {
          "output_type": "stream",
          "name": "stdout",
          "text": [
            "lucky\n",
            "lucky\n"
          ]
        }
      ]
    },
    {
      "cell_type": "markdown",
      "source": [
        "3 Private:\n",
        "\n",
        "Notation: Double leading underscores (__).\n",
        "\n",
        "Accessibility: Private members are accessible only within the class where they are defined. Python uses name mangling to make these members less accessible from outside the class.\n",
        "\n",
        "Example"
      ],
      "metadata": {
        "id": "NPixkG3HZ5uO"
      }
    },
    {
      "cell_type": "code",
      "source": [
        "class YASH:\n",
        "    def __init__(self, name):\n",
        "        self.__name = name  # Private attribute\n",
        "\n",
        "    def __display(self):\n",
        "        print(self.__name)  # Private method\n",
        "\n",
        "    def access_private(self):\n",
        "        self.__display()  # Accessible within the class\n",
        "\n",
        "obj = YASH(\"AJAY\")\n",
        "obj.access_private()  # Accessible\n"
      ],
      "metadata": {
        "colab": {
          "base_uri": "https://localhost:8080/"
        },
        "id": "FfXvP2WVaHUX",
        "outputId": "40cd9d99-c2da-4312-af2b-7b4460133a86"
      },
      "execution_count": 30,
      "outputs": [
        {
          "output_type": "stream",
          "name": "stdout",
          "text": [
            "AJAY\n"
          ]
        }
      ]
    },
    {
      "cell_type": "code",
      "source": [
        "print(obj.__name)   # Not accessible, will raise AttributeError\n",
        "obj.__display()     # Not accessible, will raise AttributeError"
      ],
      "metadata": {
        "colab": {
          "base_uri": "https://localhost:8080/",
          "height": 164
        },
        "id": "WPfj0lVwaKIw",
        "outputId": "d0fb7ae3-7256-4fa7-d7ad-8e9139b2355b"
      },
      "execution_count": 31,
      "outputs": [
        {
          "output_type": "error",
          "ename": "AttributeError",
          "evalue": "'YASH' object has no attribute '__name'",
          "traceback": [
            "\u001b[0;31m---------------------------------------------------------------------------\u001b[0m",
            "\u001b[0;31mAttributeError\u001b[0m                            Traceback (most recent call last)",
            "\u001b[0;32m<ipython-input-31-9cef3ebbdcc3>\u001b[0m in \u001b[0;36m<cell line: 1>\u001b[0;34m()\u001b[0m\n\u001b[0;32m----> 1\u001b[0;31m \u001b[0mprint\u001b[0m\u001b[0;34m(\u001b[0m\u001b[0mobj\u001b[0m\u001b[0;34m.\u001b[0m\u001b[0m__name\u001b[0m\u001b[0;34m)\u001b[0m   \u001b[0;31m# Not accessible, will raise AttributeError\u001b[0m\u001b[0;34m\u001b[0m\u001b[0;34m\u001b[0m\u001b[0m\n\u001b[0m\u001b[1;32m      2\u001b[0m \u001b[0mobj\u001b[0m\u001b[0;34m.\u001b[0m\u001b[0m__display\u001b[0m\u001b[0;34m(\u001b[0m\u001b[0;34m)\u001b[0m     \u001b[0;31m# Not accessible, will raise AttributeError\u001b[0m\u001b[0;34m\u001b[0m\u001b[0;34m\u001b[0m\u001b[0m\n",
            "\u001b[0;31mAttributeError\u001b[0m: 'YASH' object has no attribute '__name'"
          ]
        }
      ]
    },
    {
      "cell_type": "markdown",
      "source": [
        "hence the private methods are not directly accessable."
      ],
      "metadata": {
        "id": "1nA5ASy7bskP"
      }
    },
    {
      "cell_type": "markdown",
      "source": [
        "Q6  Describe the five types of inheritance in Python. Provide a simple example of multiple inheritance?"
      ],
      "metadata": {
        "id": "T7zteTMkb-RN"
      }
    },
    {
      "cell_type": "markdown",
      "source": [
        "ANS) In Python, there are five types of inheritance:\n",
        "\n",
        "1 Single Inheritance: A child class inherits from a single parent class"
      ],
      "metadata": {
        "id": "ZjKRzcoUcL3r"
      }
    },
    {
      "cell_type": "code",
      "source": [
        "class Parent:\n",
        "    def func1(self):\n",
        "        print(\"This function is in the parent class.\")\n",
        "\n",
        "class Child(Parent):\n",
        "    def func2(self):\n",
        "        print(\"This function is in the child class.\")\n",
        "\n",
        "obj = Child()\n",
        "obj.func1()\n",
        "obj.func2()"
      ],
      "metadata": {
        "colab": {
          "base_uri": "https://localhost:8080/"
        },
        "id": "d1XfAIsxcOjw",
        "outputId": "b9fd48de-258f-465c-f33f-66dc7870166c"
      },
      "execution_count": 36,
      "outputs": [
        {
          "output_type": "stream",
          "name": "stdout",
          "text": [
            "This function is in the parent class.\n",
            "This function is in the child class.\n"
          ]
        }
      ]
    },
    {
      "cell_type": "markdown",
      "source": [
        "2 Multiple Inheritance: A child class inherits from multiple parent classes."
      ],
      "metadata": {
        "id": "S_5HVZhGcb7B"
      }
    },
    {
      "cell_type": "code",
      "source": [
        "class Mother:\n",
        "    def mother_info(self):\n",
        "        print(\"Mother info\")\n",
        "\n",
        "class Father:\n",
        "    def father_info(self):\n",
        "        print(\"Father info\")\n",
        "\n",
        "class Child(Mother, Father):\n",
        "    def child_info(self):\n",
        "        print(\"Child info\")\n",
        "\n",
        "obj = Child()\n",
        "obj.mother_info()\n",
        "obj.father_info()\n",
        "obj.child_info()"
      ],
      "metadata": {
        "colab": {
          "base_uri": "https://localhost:8080/"
        },
        "id": "0AB4RJ2jcdvh",
        "outputId": "e54d9f71-8cc3-41a8-be33-ec55b15e9a14"
      },
      "execution_count": 37,
      "outputs": [
        {
          "output_type": "stream",
          "name": "stdout",
          "text": [
            "Mother info\n",
            "Father info\n",
            "Child info\n"
          ]
        }
      ]
    },
    {
      "cell_type": "markdown",
      "source": [
        "3 Multilevel Inheritance: A class inherits from a parent class, which in turn inherits from another class."
      ],
      "metadata": {
        "id": "ADV72t84coSv"
      }
    },
    {
      "cell_type": "code",
      "source": [
        "class Grandparent:\n",
        "    def grandparent_info(self):\n",
        "        print(\"Grandparent info\")\n",
        "\n",
        "class Parent(Grandparent):\n",
        "    def parent_info(self):\n",
        "        print(\"Parent info\")\n",
        "\n",
        "class Child(Parent):\n",
        "    def child_info(self):\n",
        "        print(\"Child info\")\n",
        "\n",
        "obj = Child()\n",
        "obj.grandparent_info()\n",
        "obj.parent_info()\n",
        "obj.child_info()"
      ],
      "metadata": {
        "colab": {
          "base_uri": "https://localhost:8080/"
        },
        "id": "mTXDuc28cpxC",
        "outputId": "a34df1b7-4bb9-4d68-f4d7-cd88b43e1a65"
      },
      "execution_count": 38,
      "outputs": [
        {
          "output_type": "stream",
          "name": "stdout",
          "text": [
            "Grandparent info\n",
            "Parent info\n",
            "Child info\n"
          ]
        }
      ]
    },
    {
      "cell_type": "markdown",
      "source": [
        "4 Hierarchical Inheritance: Multiple child classes inherit from a single parent class"
      ],
      "metadata": {
        "id": "p9qKEQ0rcy_f"
      }
    },
    {
      "cell_type": "code",
      "source": [
        "class Parent:\n",
        "    def parent_info(self):\n",
        "        print(\"Parent info\")\n",
        "\n",
        "class Child1(Parent):\n",
        "    def child1_info(self):\n",
        "        print(\"Child1 info\")\n",
        "\n",
        "class Child2(Parent):\n",
        "    def child2_info(self):\n",
        "        print(\"Child2 info\")\n",
        "\n",
        "obj1 = Child1()\n",
        "obj2 = Child2()\n",
        "obj1.parent_info()\n",
        "obj1.child1_info()\n",
        "obj2.parent_info()\n",
        "obj2.child2_info()"
      ],
      "metadata": {
        "colab": {
          "base_uri": "https://localhost:8080/"
        },
        "id": "cCKtK5lOcz8S",
        "outputId": "d96fcb2a-1e4d-406f-b51a-881b3dd5c29b"
      },
      "execution_count": 39,
      "outputs": [
        {
          "output_type": "stream",
          "name": "stdout",
          "text": [
            "Parent info\n",
            "Child1 info\n",
            "Parent info\n",
            "Child2 info\n"
          ]
        }
      ]
    },
    {
      "cell_type": "markdown",
      "source": [
        "5 Hybrid Inheritance: A combination of two or more types of inheritance"
      ],
      "metadata": {
        "id": "uUwiGfOFc-wh"
      }
    },
    {
      "cell_type": "code",
      "source": [
        "class Parent:\n",
        "    def parent_info(self):\n",
        "        print(\"Parent info\")\n",
        "\n",
        "class Child1(Parent):\n",
        "    def child1_info(self):\n",
        "        print(\"Child1 info\")\n",
        "\n",
        "class Child2(Parent):\n",
        "    def child2_info(self):\n",
        "        print(\"Child2 info\")\n",
        "\n",
        "class GrandChild(Child1, Child2):\n",
        "    def grandchild_info(self):\n",
        "        print(\"GrandChild info\")\n",
        "\n",
        "obj = GrandChild()\n",
        "obj.parent_info()\n",
        "obj.child1_info()\n",
        "obj.child2_info()\n",
        "obj.grandchild_info()"
      ],
      "metadata": {
        "colab": {
          "base_uri": "https://localhost:8080/"
        },
        "id": "tLD_wHQwc_3e",
        "outputId": "d497f85f-0383-46e0-af1f-e352e3f0f577"
      },
      "execution_count": 40,
      "outputs": [
        {
          "output_type": "stream",
          "name": "stdout",
          "text": [
            "Parent info\n",
            "Child1 info\n",
            "Child2 info\n",
            "GrandChild info\n"
          ]
        }
      ]
    },
    {
      "cell_type": "markdown",
      "source": [
        "Example of Multiple Inheritance\n",
        "\n",
        "Here’s a simple example demonstrating multiple inheritance:"
      ],
      "metadata": {
        "id": "NWOJvUZadTmY"
      }
    },
    {
      "cell_type": "code",
      "source": [
        "class Animal:\n",
        "    def eat(self):\n",
        "        print(\"Eating\")\n",
        "\n",
        "class Bird:\n",
        "    def fly(self):\n",
        "        print(\"Flying\")\n",
        "\n",
        "class Bat(Animal, Bird):\n",
        "    def sleep(self):\n",
        "        print(\"Sleeping\")\n",
        "\n",
        "bat = Bat()\n",
        "bat.eat()\n",
        "bat.fly()\n",
        "bat.sleep()"
      ],
      "metadata": {
        "colab": {
          "base_uri": "https://localhost:8080/"
        },
        "id": "8kfHco_RdVC-",
        "outputId": "a2e9379d-c72d-42aa-88eb-2b7360374d96"
      },
      "execution_count": 41,
      "outputs": [
        {
          "output_type": "stream",
          "name": "stdout",
          "text": [
            "Eating\n",
            "Flying\n",
            "Sleeping\n"
          ]
        }
      ]
    },
    {
      "cell_type": "markdown",
      "source": [
        "In this example, the Bat class inherits from both Animal and Bird classes, allowing it to use methods from both parent classes"
      ],
      "metadata": {
        "id": "_ow7yPH5dhs0"
      }
    },
    {
      "cell_type": "markdown",
      "source": [
        "Q7 . What is the Method Resolution Order (MRO) in Python? How can you retrieve it programmatically?"
      ],
      "metadata": {
        "id": "ZnsB0H18ds33"
      }
    },
    {
      "cell_type": "markdown",
      "source": [
        "ANS) The Method Resolution Order (MRO) in Python is the order in which base classes are searched when executing a method. This is particularly important in the context of multiple inheritance, where a class can inherit from more than one parent class. Python uses the C3 linearization algorithm (also known as C3 superclass linearization) to determine the MRO"
      ],
      "metadata": {
        "id": "WIUq7LKVd2tR"
      }
    },
    {
      "cell_type": "markdown",
      "source": [
        "How to Retrieve MRO Programmatically\n",
        "You can retrieve the MRO of a class using the __mro__ attribute or the mro() method. Here are examples of both:\n",
        "\n",
        "Using the __mro__ attribute:"
      ],
      "metadata": {
        "id": "JSPpljHseAeN"
      }
    },
    {
      "cell_type": "code",
      "source": [
        "class A:\n",
        "    pass\n",
        "\n",
        "class B(A):\n",
        "    pass\n",
        "\n",
        "class C(A):\n",
        "    pass\n",
        "\n",
        "class D(B, C):\n",
        "    pass\n",
        "\n",
        "print(D.__mro__)"
      ],
      "metadata": {
        "colab": {
          "base_uri": "https://localhost:8080/"
        },
        "id": "9uFA7mp3eCfU",
        "outputId": "3e7a9cb8-fbc3-42a8-b7a2-f18a3834e26b"
      },
      "execution_count": 42,
      "outputs": [
        {
          "output_type": "stream",
          "name": "stdout",
          "text": [
            "(<class '__main__.D'>, <class '__main__.B'>, <class '__main__.C'>, <class '__main__.A'>, <class 'object'>)\n"
          ]
        }
      ]
    },
    {
      "cell_type": "code",
      "source": [
        "#Using the mro() method:\n",
        "\n",
        "class A:\n",
        "    pass\n",
        "\n",
        "class B(A):\n",
        "    pass\n",
        "\n",
        "class C(A):\n",
        "    pass\n",
        "\n",
        "class D(B, C):\n",
        "    pass\n",
        "\n",
        "print(D.mro())"
      ],
      "metadata": {
        "colab": {
          "base_uri": "https://localhost:8080/"
        },
        "id": "QQkU_3D9eG7j",
        "outputId": "3410856d-51b5-4087-95a4-f58221b6665f"
      },
      "execution_count": 43,
      "outputs": [
        {
          "output_type": "stream",
          "name": "stdout",
          "text": [
            "[<class '__main__.D'>, <class '__main__.B'>, <class '__main__.C'>, <class '__main__.A'>, <class 'object'>]\n"
          ]
        }
      ]
    },
    {
      "cell_type": "markdown",
      "source": [
        "In both examples, the MRO for class D is displayed, showing the order in which Python will search for methods: D, B, C, A, and finally the base object class"
      ],
      "metadata": {
        "id": "ItZkgFFEebic"
      }
    },
    {
      "cell_type": "markdown",
      "source": [
        "Q8 . Create an abstract base class `Shape` with an abstract method `area()`. Then create two subclasses\n",
        "`Circle` and `Rectangle` that implement the `area()` method?"
      ],
      "metadata": {
        "id": "eV_OQlD_ehmV"
      }
    },
    {
      "cell_type": "markdown",
      "source": [
        "ANS) To create an abstract base class in Python, you can use the abc module, which provides the infrastructure for defining abstract base classes. Here’s how you can create an abstract base class Shape with an abstract method area(), and then implement this method in two subclasses, Circle and Rectangle"
      ],
      "metadata": {
        "id": "qNUTCBRUesaF"
      }
    },
    {
      "cell_type": "code",
      "source": [
        "from abc import ABC, abstractmethod\n",
        "import math\n",
        "\n",
        "class Shape(ABC):\n",
        "    @abstractmethod\n",
        "    def area(self):\n",
        "        pass\n",
        "\n",
        "class Circle(Shape):\n",
        "    def __init__(self, radius):\n",
        "        self.radius = radius\n",
        "\n",
        "    def area(self):\n",
        "        return math.pi * self.radius ** 2\n",
        "\n",
        "class Rectangle(Shape):\n",
        "    def __init__(self, width, height):\n",
        "        self.width = width\n",
        "        self.height = height\n",
        "\n",
        "    def area(self):\n",
        "        return self.width * self.height\n",
        "\n",
        "# Create instances of Circle and Rectangle\n",
        "circle = Circle(5)\n",
        "rectangle = Rectangle(4, 6)\n",
        "\n",
        "# Calculate and print the area of the shapes\n",
        "print(f\"Area of the circle: {circle.area()}\")\n",
        "print(f\"Area of the rectangle: {rectangle.area()}\")"
      ],
      "metadata": {
        "colab": {
          "base_uri": "https://localhost:8080/"
        },
        "id": "f2un1AfleuhR",
        "outputId": "406f1aa3-32b1-436d-8d18-0550d7e2a2a4"
      },
      "execution_count": 44,
      "outputs": [
        {
          "output_type": "stream",
          "name": "stdout",
          "text": [
            "Area of the circle: 78.53981633974483\n",
            "Area of the rectangle: 24\n"
          ]
        }
      ]
    },
    {
      "cell_type": "markdown",
      "source": [
        "\n",
        "Explanation:\n",
        "\n",
        "1 Abstract Base Class (Shape):\n",
        "\n",
        "The Shape class inherits from ABC (Abstract Base Class).\n",
        "\n",
        "The area method is decorated with @abstractmethod, making it an abstract method that must be implemented by any subclass.\n",
        "\n",
        "2 Circle Class:\n",
        "\n",
        "Inherits from Shape.\n",
        "\n",
        "Implements the area method to calculate the area of a circle using the formula ( \\pi \\times \\text{radius}^2 ).\n",
        "\n",
        "3 Rectangle Class:\n",
        "\n",
        "Inherits from Shape.\n",
        "\n",
        "Implements the area method to calculate the area of a rectangle using the formula (\\text{width} \\times \\text{height}).\n",
        "\n",
        "This setup ensures that any subclass of Shape must implement the area method, providing a consistent interface for calculating the area of different shapes."
      ],
      "metadata": {
        "id": "HT6t_Iqoe7Ra"
      }
    },
    {
      "cell_type": "markdown",
      "source": [
        "Q9  Demonstrate polymorphism by creating a function that can work with different shape objects to calculate\n",
        "and print their areas?"
      ],
      "metadata": {
        "id": "mkjfKzSkfUi5"
      }
    },
    {
      "cell_type": "markdown",
      "source": [
        "ANS) Polymorphism allows us to define methods in different classes that have the same name but behave differently. Here’s an example demonstrating polymorphism with a function that calculates and prints the area of different shape objects:"
      ],
      "metadata": {
        "id": "GO7KbKONfgBJ"
      }
    },
    {
      "cell_type": "code",
      "source": [
        "from abc import ABC, abstractmethod\n",
        "import math\n",
        "\n",
        "# Abstract base class\n",
        "class Shape(ABC):\n",
        "    @abstractmethod\n",
        "    def area(self):\n",
        "        pass\n",
        "\n",
        "# Circle class\n",
        "class Circle(Shape):\n",
        "    def __init__(self, radius):\n",
        "        self.radius = radius\n",
        "\n",
        "    def area(self):\n",
        "        return math.pi * self.radius ** 2\n",
        "\n",
        "# Rectangle class\n",
        "class Rectangle(Shape):\n",
        "    def __init__(self, width, height):\n",
        "        self.width = width\n",
        "        self.height = height\n",
        "\n",
        "    def area(self):\n",
        "        return self.width * self.height\n",
        "\n",
        "# Function to calculate and print area\n",
        "def print_area(shape):\n",
        "    print(f\"The area is: {shape.area()}\")\n",
        "\n",
        "# Creating instances of Circle and Rectangle\n",
        "circle = Circle(5)\n",
        "rectangle = Rectangle(4, 6)\n",
        "\n",
        "# Useing the function to print areas\n",
        "print_area(circle)\n",
        "print_area(rectangle)"
      ],
      "metadata": {
        "colab": {
          "base_uri": "https://localhost:8080/"
        },
        "id": "RDiHtVuefh5-",
        "outputId": "27113e3f-c41e-4934-a311-a5d0db681822"
      },
      "execution_count": 45,
      "outputs": [
        {
          "output_type": "stream",
          "name": "stdout",
          "text": [
            "The area is: 78.53981633974483\n",
            "The area is: 24\n"
          ]
        }
      ]
    },
    {
      "cell_type": "markdown",
      "source": [
        "Explanation:\n",
        "\n",
        "1 Abstract Base Class (Shape):\n",
        "\n",
        "Defines an abstract method area() that must be implemented by any subclass.\n",
        "\n",
        "2 Circle Class:\n",
        "\n",
        "Implements the area() method to calculate the area of a circle using the formula ( \\pi \\times \\text{radius}^2 ).\n",
        "\n",
        "3 Rectangle Class:\n",
        "\n",
        "Implements the area() method to calculate the area of a rectangle using the formula (\\text{width} \\times \\text{height}).\n",
        "\n",
        "4 print_area Function:\n",
        "\n",
        "Takes a Shape object as an argument and prints its area by calling the area() method.\n",
        "\n",
        "This example demonstrates polymorphism by allowing the print_area function to work with any object that is a subclass of Shape, regardless of its specific type."
      ],
      "metadata": {
        "id": "4In_GcHCfzBg"
      }
    },
    {
      "cell_type": "markdown",
      "source": [
        "Q10  Implement encapsulation in a `BankAccount` class with private attributes for `balance` and\n",
        "`account_number`. Include methods for deposit, withdrawal, and balance inquiry?"
      ],
      "metadata": {
        "id": "mF5VCdqjgPK-"
      }
    },
    {
      "cell_type": "code",
      "source": [
        "#ANS)\n",
        "class BankAccount:\n",
        "    def __init__(self, account_number, initial_balance=0):\n",
        "        self.__account_number = account_number  # Private attribute\n",
        "        self.__balance = initial_balance        # Private attribute\n",
        "\n",
        "    def deposit(self, amount):\n",
        "        if amount > 0:\n",
        "            self.__balance += amount\n",
        "            print(f\"Deposited: {amount}\")\n",
        "        else:\n",
        "            print(\"Deposit amount must be positive.\")\n",
        "\n",
        "    def withdraw(self, amount):\n",
        "        if 0 < amount <= self.__balance:\n",
        "            self.__balance -= amount\n",
        "            print(f\"Withdrew: {amount}\")\n",
        "        else:\n",
        "            print(\"Insufficient balance or invalid amount.\")\n",
        "\n",
        "    def check_balance(self):\n",
        "        return self.__balance\n",
        "\n",
        "    def get_account_number(self):\n",
        "        return self.__account_number\n",
        "\n",
        "# Example usage\n",
        "account = BankAccount(\"123456789\", 1000)\n",
        "account.deposit(500)\n",
        "account.withdraw(200)\n",
        "print(f\"Balance: {account.check_balance()}\")\n",
        "print(f\"Account Number: {account.get_account_number()}\")"
      ],
      "metadata": {
        "colab": {
          "base_uri": "https://localhost:8080/"
        },
        "id": "55KCQkUzgS6V",
        "outputId": "a09603c3-a53a-4664-8c03-1f819a72d003"
      },
      "execution_count": 49,
      "outputs": [
        {
          "output_type": "stream",
          "name": "stdout",
          "text": [
            "Deposited: 500\n",
            "Withdrew: 200\n",
            "Balance: 1300\n",
            "Account Number: 123456789\n"
          ]
        }
      ]
    },
    {
      "cell_type": "markdown",
      "source": [
        "Explanation:\n",
        "\n",
        "1 Private Attributes:\n",
        "\n",
        "__account_number and __balance are private attributes, denoted by the double underscores (__). This means they cannot be accessed directly from outside the class.\n",
        "\n",
        "2 Methods:\n",
        "\n",
        "deposit(self, amount): Adds the specified amount to the balance if the amount is positive.\n",
        "\n",
        "withdraw(self, amount): Deducts the specified amount from the balance if the amount is positive and less than or equal to the current balance.\n",
        "\n",
        "check_balance(self): Returns the current balance.\n",
        "\n",
        "get_account_number(self): Returns the account number.\n",
        "\n",
        "This implementation ensures that the balance and account_number attributes are encapsulated within the class, providing controlled access through methods"
      ],
      "metadata": {
        "id": "xZVdBBrLg2Ci"
      }
    },
    {
      "cell_type": "markdown",
      "source": [
        "Q11  Write a class that overrides the `__str__` and `__add__` magic methods. What will these methods allow\n",
        "you to do?"
      ],
      "metadata": {
        "id": "bLVuIrtkhIe2"
      }
    },
    {
      "cell_type": "code",
      "source": [
        "class YASH:\n",
        "    def __init__(self, x, y):\n",
        "        self.x = x\n",
        "        self.y = y\n",
        "\n",
        "    def __str__(self):\n",
        "        return f\"YASH({self.x}, {self.y})\"\n",
        "\n",
        "    def __add__(self, other):\n",
        "        return YASH(self.x + other.x, self.y + other.y)\n",
        "\n",
        "v1 = YASH(2, 3)\n",
        "v2 = YASH(4, 5)\n",
        "\n",
        "print(v1)\n",
        "print(v2)\n",
        "\n",
        "\n",
        "v3 = v1 + v2\n",
        "print(v3)"
      ],
      "metadata": {
        "colab": {
          "base_uri": "https://localhost:8080/"
        },
        "id": "fZ6uLX2whK5Z",
        "outputId": "1ecfeda5-e053-4648-c264-1ec0c16d21f9"
      },
      "execution_count": 50,
      "outputs": [
        {
          "output_type": "stream",
          "name": "stdout",
          "text": [
            "YASH(2, 3)\n",
            "YASH(4, 5)\n",
            "YASH(6, 8)\n"
          ]
        }
      ]
    },
    {
      "cell_type": "markdown",
      "source": [
        "Explanation:\n",
        "1 __str__ Method:\n",
        "\n",
        "The __str__ method is string representation of the YASH object. When you use print(v1), it calls v1.__str__(), which returns the string \"YASH(2, 3)\".\n",
        "\n",
        "2 __add__ Method:\n",
        "\n",
        "The __add__ method is overridden to define custom behavior for the addition operator (+).\n",
        " When you add two YASH objects (v1 + v2), it calls v1.__add__(v2), which returns a new YASH object with the sum of the corresponding components.\n",
        "\n",
        "By overriding these magic methods, you can make your custom classes more intuitive and easier to use, providing meaningful string representations and enabling custom behavior for operators"
      ],
      "metadata": {
        "id": "qQma84V-hpqZ"
      }
    },
    {
      "cell_type": "markdown",
      "source": [
        "Q12 Create a decorator that measures and prints the execution time of a function?"
      ],
      "metadata": {
        "id": "YGnrYmxciRg2"
      }
    },
    {
      "cell_type": "markdown",
      "source": [
        "ANS) Here’s a decorator that measures and prints the execution time of a function:"
      ],
      "metadata": {
        "id": "IONcCMr_ibr4"
      }
    },
    {
      "cell_type": "code",
      "source": [
        "import time\n",
        "\n",
        "def measure_execution_time(func):\n",
        "    def wrapper(*args, **kwargs):\n",
        "        start_time = time.time()\n",
        "        result = func(*args, **kwargs)\n",
        "        end_time = time.time()\n",
        "        execution_time = end_time - start_time\n",
        "        print(f\"Function {func.__name__} took {execution_time:.4f} seconds to execute\")\n",
        "        return result\n",
        "    return wrapper\n",
        "\n",
        "# Example usage\n",
        "@measure_execution_time\n",
        "def YASH(n):\n",
        "    total = 0\n",
        "    for i in range(n):\n",
        "        total += i\n",
        "    return total\n",
        "\n",
        "# Call the decorated function\n",
        "result = YASH(1000000)\n",
        "print(f\"Result: {result}\")"
      ],
      "metadata": {
        "colab": {
          "base_uri": "https://localhost:8080/"
        },
        "id": "41imaGAKidfg",
        "outputId": "28e4d350-51fa-4cf1-a99e-cf30d717120b"
      },
      "execution_count": 52,
      "outputs": [
        {
          "output_type": "stream",
          "name": "stdout",
          "text": [
            "Function YASH took 0.0676 seconds to execute\n",
            "Result: 499999500000\n"
          ]
        }
      ]
    },
    {
      "cell_type": "markdown",
      "source": [
        "Explanation:\n",
        "\n",
        "1 The Decorator\n",
        "\n",
        "Decorator Definition:\n",
        "The measure_execution_time decorator takes a function func as an argument.\n",
        "Inside the decorator, a wrapper function is defined to wrap the original function.\n",
        "\n",
        "The wrapper function records the start time before calling the original function and the end time after the function completes.\n",
        "\n",
        "It calculates the execution time and prints it.\n",
        "\n",
        "Finally, it returns the result of the original function.\n",
        "\n",
        "2 Applying the Decorator:\n",
        "\n",
        "The @measure_execution_time syntax is used to apply the decorator to YASH.\n",
        "\n",
        "When YASH is called, it will be wrapped by the measure_execution_time decorator, and the execution time will be measured and printed.\n",
        "This decorator can be applied to any function to measure and print its execution time"
      ],
      "metadata": {
        "id": "1rxc6gbhi1T0"
      }
    },
    {
      "cell_type": "markdown",
      "source": [
        "Q13 . Explain the concept of the Diamond Problem in multiple inheritance. How does Python resolve it?"
      ],
      "metadata": {
        "id": "lTdz95hJjZVN"
      }
    },
    {
      "cell_type": "markdown",
      "source": [
        "ANS) The Diamond Problem in multiple inheritance occurs when a class inherits from two classes that both inherit from a common base class. This creates a diamond-shaped inheritance structure, leading to ambiguity about which path to follow when a method is called.\n",
        "\n",
        "Example of the Diamond Problem\n",
        "\n",
        "Consider the following class hierarchy:"
      ],
      "metadata": {
        "id": "tFW1rmMlj_tc"
      }
    },
    {
      "cell_type": "code",
      "source": [
        "class A:\n",
        "    def display(self):\n",
        "        print(\"This is class A\")\n",
        "\n",
        "class B(A):\n",
        "    def display(self):\n",
        "        print(\"This is class B\")\n",
        "\n",
        "class C(A):\n",
        "    def display(self):\n",
        "        print(\"This is class C\")\n",
        "\n",
        "class D(B, C):\n",
        "    pass\n",
        "\n",
        "obj = D()\n",
        "obj.display()"
      ],
      "metadata": {
        "colab": {
          "base_uri": "https://localhost:8080/"
        },
        "id": "mWMqeHN5kDpf",
        "outputId": "869b337b-d1d3-462b-b7e3-52c208b0ad6d"
      },
      "execution_count": 53,
      "outputs": [
        {
          "output_type": "stream",
          "name": "stdout",
          "text": [
            "This is class B\n"
          ]
        }
      ]
    },
    {
      "cell_type": "markdown",
      "source": [
        "In this example, class D inherits from both B and C, which in turn inherit from A. When obj.display() is called, it’s unclear whether to use the display method from B or C."
      ],
      "metadata": {
        "id": "-19K-KwKkRTe"
      }
    },
    {
      "cell_type": "markdown",
      "source": [
        "How Python Resolves the Diamond Problem\n",
        "\n",
        "Python resolves this ambiguity using the Method Resolution Order (MRO), which follows the C3 linearization algorithm. The MRO determines the order in which classes are searched for a method. You can view the MRO of a class using the __mro__ attribute or the mro() method.\n",
        "\n",
        "Here’s how you can check the MRO:"
      ],
      "metadata": {
        "id": "Yp5n85cUkVFI"
      }
    },
    {
      "cell_type": "code",
      "source": [
        "print(D.__mro__)"
      ],
      "metadata": {
        "colab": {
          "base_uri": "https://localhost:8080/"
        },
        "id": "UQ87vhupkXaG",
        "outputId": "4c516b01-8c02-4705-e51c-b6683b689717"
      },
      "execution_count": 54,
      "outputs": [
        {
          "output_type": "stream",
          "name": "stdout",
          "text": [
            "(<class '__main__.D'>, <class '__main__.B'>, <class '__main__.C'>, <class '__main__.A'>, <class 'object'>)\n"
          ]
        }
      ]
    },
    {
      "cell_type": "markdown",
      "source": [
        "In this case, the MRO for class D is [D, B, C, A, object]. This means that Python will first look for the display method in D, then in B, then in C, and finally in A. Therefore, obj.display() will call the display method from class B\n",
        "\n",
        "Example with MRO"
      ],
      "metadata": {
        "id": "MBsVwpFjkdU_"
      }
    },
    {
      "cell_type": "code",
      "source": [
        "class A:\n",
        "    def display(self):\n",
        "        print(\"This is class A\")\n",
        "\n",
        "class B(A):\n",
        "    def display(self):\n",
        "        print(\"This is class B\")\n",
        "\n",
        "class C(A):\n",
        "    def display(self):\n",
        "        print(\"This is class C\")\n",
        "\n",
        "class D(B, C):\n",
        "    def display(self):\n",
        "        print(\"This is class D\")\n",
        "\n",
        "obj = D()\n",
        "obj.display()\n",
        "print(D.__mro__)"
      ],
      "metadata": {
        "colab": {
          "base_uri": "https://localhost:8080/"
        },
        "id": "Hb4TL2bGkf9e",
        "outputId": "b546878c-25ec-4639-dda3-1e2f32063db3"
      },
      "execution_count": 55,
      "outputs": [
        {
          "output_type": "stream",
          "name": "stdout",
          "text": [
            "This is class D\n",
            "(<class '__main__.D'>, <class '__main__.B'>, <class '__main__.C'>, <class '__main__.A'>, <class 'object'>)\n"
          ]
        }
      ]
    },
    {
      "cell_type": "markdown",
      "source": [
        "In this example, D has its own display method, so obj.display() calls the method from D. The MRO ensures that the method resolution follows a consistent and predictable order, avoiding the ambiguity of the diamond problem"
      ],
      "metadata": {
        "id": "x7uhByqLkuRE"
      }
    },
    {
      "cell_type": "markdown",
      "source": [
        "Q14 Write a class method that keeps track of the number of instances created from a class?"
      ],
      "metadata": {
        "id": "sxxBhYsVk5po"
      }
    },
    {
      "cell_type": "markdown",
      "source": [
        "ANS) Here’s how we can create a class method that keeps track of the number of instances created from a class:"
      ],
      "metadata": {
        "id": "dlCKzI0ilCpf"
      }
    },
    {
      "cell_type": "code",
      "source": [
        "class MyClass:\n",
        "    instance_count = 0  # Class variable to keep track of the number of instances\n",
        "\n",
        "    def __init__(self):\n",
        "        MyClass.instance_count += 1\n",
        "\n",
        "    @classmethod\n",
        "    def get_instance_count(cls):\n",
        "        return cls.instance_count\n",
        "\n",
        "# Example\n",
        "obj1 = MyClass()\n",
        "obj2 = MyClass()\n",
        "obj3 = MyClass()\n",
        "\n",
        "print(MyClass.get_instance_count())"
      ],
      "metadata": {
        "colab": {
          "base_uri": "https://localhost:8080/"
        },
        "id": "d8ztU7ExlGLF",
        "outputId": "34c81acd-6e1b-43b4-a34c-42ca825b9e1e"
      },
      "execution_count": 57,
      "outputs": [
        {
          "output_type": "stream",
          "name": "stdout",
          "text": [
            "3\n"
          ]
        }
      ]
    },
    {
      "cell_type": "markdown",
      "source": [
        "Explanation:\n",
        "\n",
        "1 Class Variable (instance_count):\n",
        "\n",
        "instance_count is a class variable that keeps track of the number of instances created. It is shared among all instances of the class.\n",
        "\n",
        "2 Constructor (__init__ method):\n",
        "Each time a new instance of MyClass is created, the constructor (__init__ method) is called, and instance_count is incremented by 1.\n",
        "\n",
        "3 Class Method (get_instance_count):\n",
        "The get_instance_count method is a class method, denoted by the @classmethod decorator. It takes cls as the first parameter, which refers to the class itself.\n",
        "\n",
        "This method returns the current value of instance_count.\n",
        "By using a class variable and a class method, you can easily keep track of and retrieve the number of instances created from the class"
      ],
      "metadata": {
        "id": "qQyHq6SElRgu"
      }
    },
    {
      "cell_type": "markdown",
      "source": [
        "Q15 . Implement a static method in a class that checks if a given year is a leap year?"
      ],
      "metadata": {
        "id": "t83rHfYmllzG"
      }
    },
    {
      "cell_type": "markdown",
      "source": [
        "ANS) Here’s how we can implement a static method in a class to check if a given year is a leap year:"
      ],
      "metadata": {
        "id": "feH-urttl7V9"
      }
    },
    {
      "cell_type": "code",
      "source": [
        "class YearChecker:\n",
        "    @staticmethod\n",
        "    def is_leap_year(year):\n",
        "        if (year % 4 == 0 and year % 100 != 0) or (year % 400 == 0):\n",
        "            return True\n",
        "        else:\n",
        "            return False\n",
        "\n",
        "# Example\n",
        "print(YearChecker.is_leap_year(2024))\n",
        "print(YearChecker.is_leap_year(2023))"
      ],
      "metadata": {
        "colab": {
          "base_uri": "https://localhost:8080/"
        },
        "id": "NS2dsphBl_89",
        "outputId": "db0e89cd-e0cc-468b-fd5d-0cf659012b89"
      },
      "execution_count": 58,
      "outputs": [
        {
          "output_type": "stream",
          "name": "stdout",
          "text": [
            "True\n",
            "False\n"
          ]
        }
      ]
    },
    {
      "cell_type": "markdown",
      "source": [
        "Explanation:\n",
        "\n",
        "1 Static Method (is_leap_year):\n",
        "\n",
        "The @staticmethod decorator is used to define a static method. Static methods do not require access to the instance (self) or class (cls) and can be called on the class itself.\n",
        "\n",
        "The is_leap_year method takes a year as an argument and checks if it is a leap year using the following rules:\n",
        "\n",
        "A year is a leap year if it is divisible by 4 but not by 100, unless it is also divisible by 400.\n",
        "\n",
        "Example:\n",
        "\n",
        "The static method is_leap_year is called on the YearChecker class to check if the years 2024 and 2023 are leap years.\n",
        "\n",
        "This implementation allows you to check if a year is a leap year without needing to create an instance of the YearChecker class"
      ],
      "metadata": {
        "id": "3rsiNmvQmPUj"
      }
    },
    {
      "cell_type": "code",
      "source": [],
      "metadata": {
        "id": "E8M9SEzHmbWO"
      },
      "execution_count": null,
      "outputs": []
    }
  ]
}